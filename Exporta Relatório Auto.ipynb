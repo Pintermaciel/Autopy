{
 "cells": [
  {
   "cell_type": "markdown",
   "id": "c1da7547",
   "metadata": {},
   "source": [
    "# Abrir Sistema e Exportar Arquivo"
   ]
  },
  {
   "cell_type": "code",
   "execution_count": 36,
   "id": "b4f1c46d",
   "metadata": {},
   "outputs": [],
   "source": [
    "import pyautogui\n",
    "import time\n",
    "\n",
    "#Abre a pagina no navegador\n",
    "pyautogui.hotkey('ctrl', 't')\n",
    "pyautogui.write('http://supre.nexello.com.br/', interval=0)\n",
    "pyautogui.press('enter') \n",
    "\n",
    "time.sleep(5)\n",
    "\n",
    "#abre a pagina de nivel de estoque\n",
    "pyautogui.moveTo(600, 137)\n",
    "pyautogui.moveTo(579,205, duration=1, tween=pyautogui.easeInOutQuad)\n",
    "pyautogui.click() \n",
    "\n",
    "time.sleep(10)\n",
    "\n",
    "#baixa o relatório\n",
    "pyautogui.click(473, 231)\n",
    "pyautogui.moveTo(479, 250)\n",
    "time.sleep(2)\n",
    "pyautogui.doubleClick()\n",
    "\n",
    "time.sleep(60)\n",
    "\n",
    "#renomeia arquivo e salva o relatório\n",
    "pyautogui.moveTo(250, 461)\n",
    "pyautogui.doubleClick() \n",
    "time.sleep(2)\n",
    "pyautogui.write('new_data', interval=0.25)\n",
    "pyautogui.moveTo(748, 572)\n",
    "pyautogui.doubleClick()\n",
    "pyautogui.moveTo(1017, 525)\n",
    "time.sleep(2)\n",
    "pyautogui.doubleClick() "
   ]
  },
  {
   "cell_type": "markdown",
   "id": "2b0276bd",
   "metadata": {},
   "source": [
    "# Acrescenta conjunto novo a planilha de dados e faz alterações"
   ]
  },
  {
   "cell_type": "code",
   "execution_count": 37,
   "id": "f3662702",
   "metadata": {},
   "outputs": [
    {
     "name": "stderr",
     "output_type": "stream",
     "text": [
      "C:\\Users\\pinte\\AppData\\Local\\Temp\\ipykernel_3620\\3363933140.py:7: FutureWarning: The error_bad_lines argument has been deprecated and will be removed in a future version. Use on_bad_lines in the future.\n",
      "\n",
      "\n",
      "  new_data = pd.read_csv(r'C:\\Users\\pinte\\Downloads\\new_data.csv',sep=';', error_bad_lines=True)\n"
     ]
    }
   ],
   "source": [
    "import pandas as pd\n",
    " \n",
    "#arquivo que será usado como database\n",
    "database = pd.read_excel(r'C:\\Users\\pinte\\OneDrive\\Documentos\\Pagbem\\Comercial\\DATA\\estoque.xlsx')\n",
    "\n",
    "#arquivo com dados a serem incrementados no database\"\n",
    "new_data = pd.read_csv(r'C:\\Users\\pinte\\Downloads\\new_data.csv',sep=';', error_bad_lines=True)\n",
    "\n",
    "#acrescentar novos dados a planilha database\n",
    "database =pd.concat([database, new_data])\n",
    "\n",
    "#Acrescenta a data atual para valores nulos \n",
    "database['DIA ANALISE'].fillna(pd.to_datetime('today'), inplace = True)\n",
    "\n",
    "#Acrescenta nome do comprador de cada departamento\n",
    "database.loc[(database['N1'] == 'SECA') | (database['N1'] == 'DOCE') | (database['N1'] == 'SALGADA'), 'COMPRADOR'] = 'Matos'\n",
    "database.loc[(database['N1'] == 'LIMPEZA') | (database['N1'] == 'HIGIENE') | (database['N1'] == 'BAZAR'), 'COMPRADOR'] = 'Debora'\n",
    "database.loc[(database['N1'] == 'HORTIFRUTI') | (database['N1'] == 'PADARIA'), 'COMPRADOR'] = 'Luiz'\n",
    "database.loc[(database['N1'] == 'BEBIDAS') | (database['N1'] == 'LEITES'), 'COMPRADOR'] = 'Jean'\n",
    "database.loc[(database['N1'] == 'FLC') | (database['N1'] == 'ACOUGUE'), 'COMPRADOR'] = 'Adelson'\n",
    "\n",
    "#salva arquivo\n",
    "database.to_excel(r'C:\\Users\\pinte\\OneDrive\\Documentos\\Pagbem\\Comercial\\DATA\\estoque.xlsx')\n",
    "    "
   ]
  },
  {
   "cell_type": "markdown",
   "id": "1359f87d",
   "metadata": {},
   "source": [
    "# Abre Tablaeu e substitui fonte de dados"
   ]
  },
  {
   "cell_type": "code",
   "execution_count": null,
   "id": "0730bda9",
   "metadata": {},
   "outputs": [],
   "source": [
    "pyautogui.moveTo(1011, 1046)\n",
    "time.sleep(1)\n",
    "pyautogui.click()\n",
    "time.sleep(20)\n",
    "\n",
    "pyautogui.moveTo(752, 458)\n",
    "time.sleep(10)\n",
    "pyautogui.click()\n",
    "time.sleep(60)\n",
    "\n",
    "pyautogui.moveTo(485, 355)\n",
    "pyautogui.click(button='right')\n",
    "time.sleep(4)\n",
    "\n",
    "pyautogui.moveTo(554, 394)\n",
    "pyautogui.click()\n",
    "time.sleep(5)\n",
    "\n",
    "pyautogui.moveTo(1046, 650)\n",
    "pyautogui.click()\n",
    "time.sleep(2)\n",
    "\n",
    "pyautogui.moveTo(1184, 661)\n",
    "pyautogui.click()\n",
    "time.sleep(2)\n",
    "\n",
    "pyautogui.write('estoque', interval=0.25)\n",
    "pyautogui.press('enter')"
   ]
  }
 ],
 "metadata": {
  "kernelspec": {
   "display_name": "Python 3 (ipykernel)",
   "language": "python",
   "name": "python3"
  },
  "language_info": {
   "codemirror_mode": {
    "name": "ipython",
    "version": 3
   },
   "file_extension": ".py",
   "mimetype": "text/x-python",
   "name": "python",
   "nbconvert_exporter": "python",
   "pygments_lexer": "ipython3",
   "version": "3.9.12"
  }
 },
 "nbformat": 4,
 "nbformat_minor": 5
}
